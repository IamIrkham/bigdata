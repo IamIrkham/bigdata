{
 "cells": [
  {
   "cell_type": "code",
   "execution_count": 1,
   "id": "58f0d207-e230-4744-b0d5-9fc35a247dc7",
   "metadata": {},
   "outputs": [
    {
     "name": "stdout",
     "output_type": "stream",
     "text": [
      "True\n",
      "False\n",
      "False\n",
      "False\n"
     ]
    }
   ],
   "source": [
    "def cek_angka(a, b, c):\n",
    "    # Memeriksa apakah ketiga parameter memiliki nilai yang berbeda\n",
    "    if a != b and a != c and b != c:\n",
    "        # Memeriksa apakah ada dua parameter yang jumlahnya sama dengan parameter ketiga\n",
    "        if a + b == c or a + c == b or b + c == a:\n",
    "            return True\n",
    "    return False\n",
    "\n",
    "# Contoh penggunaan fungsi\n",
    "print(cek_angka(1, 2, 3))\n",
    "print(cek_angka(1, 2, 2))\n",
    "print(cek_angka(3, 4, 5))\n",
    "print(cek_angka(1, 2, 5))\n"
   ]
  },
  {
   "cell_type": "code",
   "execution_count": 2,
   "id": "5f71284c-3ca8-462a-94c8-1ba4124d6351",
   "metadata": {},
   "outputs": [
    {
     "name": "stdin",
     "output_type": "stream",
     "text": [
      "Masukkan nilai a:  90\n",
      "Masukkan nilai b:  100\n",
      "Masukkan nilai c:  111\n"
     ]
    },
    {
     "name": "stdout",
     "output_type": "stream",
     "text": [
      "Output yang diharapkan: True\n"
     ]
    }
   ],
   "source": [
    "def cek_digit_belakang(a, b, c):\n",
    "    # Mengambil digit paling kanan dari masing-masing parameter\n",
    "    digit_a = a % 10\n",
    "    digit_b = b % 10\n",
    "    digit_c = c % 10\n",
    "    \n",
    "    # Memeriksa apakah minimal dua digit paling kanan sama\n",
    "    if digit_a == digit_b or digit_a == digit_c or digit_b == digit_c:\n",
    "        return True\n",
    "    else:\n",
    "        return False\n",
    "\n",
    "# Meminta input dari pengguna\n",
    "a = int(input(\"Masukkan nilai a: \"))\n",
    "b = int(input(\"Masukkan nilai b: \"))\n",
    "c = int(input(\"Masukkan nilai c: \"))\n",
    "\n",
    "# Memanggil fungsi cek_digit_belakang() dengan input dari pengguna\n",
    "hasil = cek_digit_belakang(a, b, c)\n",
    "print(\"Output yang diharapkan:\", hasil)\n"
   ]
  },
  {
   "cell_type": "code",
   "execution_count": 3,
   "id": "b922653f-58ce-46a9-b00d-70317573bbc4",
   "metadata": {},
   "outputs": [
    {
     "name": "stdin",
     "output_type": "stream",
     "text": [
      "Masukkan nilai a:  1\n",
      "Masukkan nilai b:  3\n",
      "Masukkan nilai c:  3\n"
     ]
    },
    {
     "name": "stdout",
     "output_type": "stream",
     "text": [
      "Output yang diharapkan: True\n"
     ]
    }
   ],
   "source": [
    "def cek_digit_belakang(a, b, c):\n",
    "    # Mengambil digit paling kanan dari masing-masing parameter\n",
    "    digit_a = a % 10\n",
    "    digit_b = b % 10\n",
    "    digit_c = c % 10\n",
    "    \n",
    "    # Memeriksa apakah minimal dua digit paling kanan sama\n",
    "    if digit_a == digit_b or digit_a == digit_c or digit_b == digit_c:\n",
    "        return True\n",
    "    else:\n",
    "        return False\n",
    "\n",
    "# Meminta input dari pengguna\n",
    "a = int(input(\"Masukkan nilai a: \"))\n",
    "b = int(input(\"Masukkan nilai b: \"))\n",
    "c = int(input(\"Masukkan nilai c: \"))\n",
    "\n",
    "# Memanggil fungsi cek_digit_belakang() dengan input dari pengguna\n",
    "hasil = cek_digit_belakang(a, b, c)\n",
    "print(\"Output yang diharapkan:\", hasil)\n"
   ]
  },
  {
   "cell_type": "code",
   "execution_count": 4,
   "id": "2eff108a-f86c-426b-babb-ca56ae028b12",
   "metadata": {},
   "outputs": [
    {
     "name": "stdin",
     "output_type": "stream",
     "text": [
      "Masukkan nilai a:  44\n",
      "Masukkan nilai b:  45\n",
      "Masukkan nilai c:  44\n"
     ]
    },
    {
     "name": "stdout",
     "output_type": "stream",
     "text": [
      "Output yang diharapkan: True\n"
     ]
    }
   ],
   "source": [
    "def cek_digit_belakang(a, b, c):\n",
    "    # Mengambil digit paling kanan dari masing-masing parameter\n",
    "    digit_a = a % 10\n",
    "    digit_b = b % 10\n",
    "    digit_c = c % 10\n",
    "    \n",
    "    # Memeriksa apakah minimal dua digit paling kanan sama\n",
    "    if digit_a == digit_b or digit_a == digit_c or digit_b == digit_c:\n",
    "        return True\n",
    "    else:\n",
    "        return False\n",
    "\n",
    "# Meminta input dari pengguna\n",
    "a = int(input(\"Masukkan nilai a: \"))\n",
    "b = int(input(\"Masukkan nilai b: \"))\n",
    "c = int(input(\"Masukkan nilai c: \"))\n",
    "\n",
    "# Memanggil fungsi cek_digit_belakang() dengan input dari pengguna\n",
    "hasil = cek_digit_belakang(a, b, c)\n",
    "print(\"Output yang diharapkan:\", hasil)\n"
   ]
  },
  {
   "cell_type": "code",
   "execution_count": 5,
   "id": "6f25c8d4-a68a-4620-ac22-cb76e5927067",
   "metadata": {},
   "outputs": [
    {
     "name": "stdin",
     "output_type": "stream",
     "text": [
      "Masukkan nilai a:  78\n",
      "Masukkan nilai b:  12\n",
      "Masukkan nilai c:  28\n"
     ]
    },
    {
     "name": "stdout",
     "output_type": "stream",
     "text": [
      "Output yang diharapkan: True\n"
     ]
    }
   ],
   "source": [
    "def cek_digit_belakang(a, b, c):\n",
    "    # Mengambil digit paling kanan dari masing-masing parameter\n",
    "    digit_a = a % 10\n",
    "    digit_b = b % 10\n",
    "    digit_c = c % 10\n",
    "    \n",
    "    # Memeriksa apakah minimal dua digit paling kanan sama\n",
    "    if digit_a == digit_b or digit_a == digit_c or digit_b == digit_c:\n",
    "        return True\n",
    "    else:\n",
    "        return False\n",
    "\n",
    "# Meminta input dari pengguna\n",
    "a = int(input(\"Masukkan nilai a: \"))\n",
    "b = int(input(\"Masukkan nilai b: \"))\n",
    "c = int(input(\"Masukkan nilai c: \"))\n",
    "\n",
    "# Memanggil fungsi cek_digit_belakang() dengan input dari pengguna\n",
    "hasil = cek_digit_belakang(a, b, c)\n",
    "print(\"Output yang diharapkan:\", hasil)\n"
   ]
  },
  {
   "cell_type": "code",
   "execution_count": 6,
   "id": "b65da361-8a66-4f07-ac09-2ab2492ca1b4",
   "metadata": {},
   "outputs": [
    {
     "name": "stdin",
     "output_type": "stream",
     "text": [
      "Masukkan nilai a:  53\n",
      "Masukkan nilai b:  3000\n",
      "Masukkan nilai c:  2000\n"
     ]
    },
    {
     "name": "stdout",
     "output_type": "stream",
     "text": [
      "Output yang diharapkan: True\n"
     ]
    }
   ],
   "source": [
    "def cek_digit_belakang(a, b, c):\n",
    "    # Mengambil digit paling kanan dari masing-masing parameter\n",
    "    digit_a = a % 10\n",
    "    digit_b = b % 10\n",
    "    digit_c = c % 10\n",
    "    \n",
    "    # Memeriksa apakah minimal dua digit paling kanan sama\n",
    "    if digit_a == digit_b or digit_a == digit_c or digit_b == digit_c:\n",
    "        return True\n",
    "    else:\n",
    "        return False\n",
    "\n",
    "# Meminta input dari pengguna\n",
    "a = int(input(\"Masukkan nilai a: \"))\n",
    "b = int(input(\"Masukkan nilai b: \"))\n",
    "c = int(input(\"Masukkan nilai c: \"))\n",
    "\n",
    "# Memanggil fungsi cek_digit_belakang() dengan input dari pengguna\n",
    "hasil = cek_digit_belakang(a, b, c)\n",
    "print(\"Output yang diharapkan:\", hasil)\n"
   ]
  },
  {
   "cell_type": "code",
   "execution_count": 7,
   "id": "d95c9bef-1e14-4bfb-9750-e01aa1272273",
   "metadata": {},
   "outputs": [
    {
     "name": "stdout",
     "output_type": "stream",
     "text": [
      "Input C = 100. Output F = 212.0\n",
      "Input C = 80. Output R = 64.0\n",
      "Input C = 0. Output F = 32.0\n"
     ]
    }
   ],
   "source": [
    "# Fungsi konversi Celcius to Fahrenheit menggunakan lambda function\n",
    "celcius_to_fahrenheit = lambda c: (9/5) * c + 32\n",
    "\n",
    "# Fungsi konversi Celcius to Reamur menggunakan lambda function\n",
    "celcius_to_reamur = lambda c: 0.8 * c\n",
    "\n",
    "# Contoh penggunaan\n",
    "c1 = 100\n",
    "f1 = celcius_to_fahrenheit(c1)\n",
    "print(f\"Input C = {c1}. Output F = {f1}\")\n",
    "\n",
    "c2 = 80\n",
    "r2 = celcius_to_reamur(c2)\n",
    "print(f\"Input C = {c2}. Output R = {r2}\")\n",
    "\n",
    "c3 = 0\n",
    "f3 = celcius_to_fahrenheit(c3)\n",
    "print(f\"Input C = {c3}. Output F = {f3}\")\n"
   ]
  },
  {
   "cell_type": "code",
   "execution_count": null,
   "id": "082f62e9-46a9-42f9-9736-f5f6c7ccddfc",
   "metadata": {},
   "outputs": [],
   "source": []
  }
 ],
 "metadata": {
  "kernelspec": {
   "display_name": "Python 3 (ipykernel)",
   "language": "python",
   "name": "python3"
  },
  "language_info": {
   "codemirror_mode": {
    "name": "ipython",
    "version": 3
   },
   "file_extension": ".py",
   "mimetype": "text/x-python",
   "name": "python",
   "nbconvert_exporter": "python",
   "pygments_lexer": "ipython3",
   "version": "3.12.2"
  }
 },
 "nbformat": 4,
 "nbformat_minor": 5
}
