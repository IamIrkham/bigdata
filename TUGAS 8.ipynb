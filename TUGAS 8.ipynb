{
 "cells": [
  {
   "cell_type": "code",
   "execution_count": 3,
   "id": "1e5edd29-6ab9-4615-a2ce-53a21a2d7f7e",
   "metadata": {},
   "outputs": [
    {
     "name": "stdout",
     "output_type": "stream",
     "text": [
      "Data Pelanggan:\n",
      "   Usia  Pendapatan\n",
      "0    25     5000000\n",
      "1    30     6000000\n",
      "2    35     5500000\n",
      "3    40     7000000\n",
      "4    45     8000000\n",
      "\n",
      "Hasil Klasterisasi:\n",
      "   Usia  Pendapatan  Klaster\n",
      "0    25     5000000        0\n",
      "1    30     6000000        0\n",
      "2    35     5500000        0\n",
      "3    40     7000000        1\n",
      "4    45     8000000        1\n",
      "5    50     7500000        1\n",
      "6    55     9000000        2\n",
      "7    60    10000000        2\n"
     ]
    }
   ],
   "source": [
    "import pandas as pd\n",
    "from sklearn.cluster import KMeans\n",
    "\n",
    "# Membaca dataset dari file CSV\n",
    "data_pelanggan = pd.read_csv('d:/Pengunjung_Mall.csv')\n",
    "\n",
    "# Menampilkan beberapa baris pertama dari dataset\n",
    "print(\"Data Pelanggan:\")\n",
    "print(data_pelanggan.head())\n",
    "\n",
    "# Pilih fitur untuk klasterisasi\n",
    "fitur_pelanggan = ['Usia', 'Pendapatan']\n",
    "\n",
    "# Memisahkan fitur untuk klasterisasi\n",
    "X_pelanggan = data_pelanggan[fitur_pelanggan]\n",
    "\n",
    "# Inisialisasi model K-Means dengan jumlah klaster yang diinginkan\n",
    "jumlah_klaster = 3  # Misalnya, kita ingin 3 klaster\n",
    "kmeans_pelanggan = KMeans(n_clusters=jumlah_klaster)\n",
    "\n",
    "# Melakukan klasterisasi\n",
    "kmeans_pelanggan.fit(X_pelanggan)\n",
    "\n",
    "# Menambahkan kolom 'Klaster' ke DataFrame\n",
    "data_pelanggan['Klaster'] = kmeans_pelanggan.labels_\n",
    "\n",
    "# Menampilkan hasil klasterisasi\n",
    "print(\"\\nHasil Klasterisasi:\")\n",
    "print(data_pelanggan)\n"
   ]
  },
  {
   "cell_type": "code",
   "execution_count": 4,
   "id": "6805f5c0-6c94-4be7-9867-1c3e1f4df188",
   "metadata": {},
   "outputs": [
    {
     "name": "stdout",
     "output_type": "stream",
     "text": [
      "    NO NAMA MAHASISWA  UTS  TUGAS  UAS  KLASTER   KELAS\n",
      "0    1            Roy   89     90   75        2  Pintar\n",
      "1    2         Sintia   90     71   95        2  Pintar\n",
      "2    3          Iqbal   70     75   80        0  Kurang\n",
      "3    4          Dilan   45     65   59        1  Sedang\n",
      "4    5          Ratna   65     75   53        1  Sedang\n",
      "5    6          Merry   80     70   75        0  Kurang\n",
      "6    7           Rudi   90     85   81        2  Pintar\n",
      "7    8          Hafiz   70     70   73        0  Kurang\n",
      "8    9           Gede   96     93   85        2  Pintar\n",
      "9   10      Christian   60     55   48        1  Sedang\n",
      "10  11         Justin   45     60   58        1  Sedang\n",
      "11  12         Jesika   60     70   72        0  Kurang\n",
      "12  13            Ayu   85     90   88        2  Pintar\n",
      "13  14          Siska   52     68   55        1  Sedang\n",
      "14  15        Reitama   40     60   70        1  Sedang\n"
     ]
    }
   ],
   "source": [
    "import pandas as pd\n",
    "from sklearn.cluster import KMeans\n",
    "\n",
    "# Persiapan Data Mahasiswa\n",
    "data_mahasiswa = {\n",
    "    'NO': [1, 2, 3, 4, 5, 6, 7, 8, 9, 10, 11, 12, 13, 14, 15],\n",
    "    'NAMA MAHASISWA': ['Roy', 'Sintia', 'Iqbal', 'Dilan', 'Ratna', 'Merry', 'Rudi', 'Hafiz', 'Gede', 'Christian', 'Justin', 'Jesika', 'Ayu', 'Siska', 'Reitama'],\n",
    "    'UTS': [89, 90, 70, 45, 65, 80, 90, 70, 96, 60, 45, 60, 85, 52, 40],\n",
    "    'TUGAS': [90, 71, 75, 65, 75, 70, 85, 70, 93, 55, 60, 70, 90, 68, 60],\n",
    "    'UAS': [75, 95, 80, 59, 53, 75, 81, 73, 85, 48, 58, 72, 88, 55, 70]\n",
    "}\n",
    "df_mahasiswa = pd.DataFrame(data_mahasiswa)\n",
    "\n",
    "# K-Means Clustering\n",
    "# Pilih fitur untuk klastering\n",
    "fitur_mahasiswa = ['UTS', 'TUGAS', 'UAS']\n",
    "X_mahasiswa = df_mahasiswa[fitur_mahasiswa]\n",
    "\n",
    "# Inisialisasi model K-Means dengan 3 klaster\n",
    "kmeans_mahasiswa = KMeans(n_clusters=3)\n",
    "\n",
    "# Lakukan klastering\n",
    "kmeans_mahasiswa.fit(X_mahasiswa)\n",
    "\n",
    "# Tambahkan kolom 'Klaster' ke DataFrame\n",
    "df_mahasiswa['KLASTER'] = kmeans_mahasiswa.labels_\n",
    "\n",
    "# Menentukan nama kelompok berdasarkan nilai rata-rata\n",
    "mapping = {0: 'Kurang', 1: 'Sedang', 2: 'Pintar'}\n",
    "df_mahasiswa['KELAS'] = df_mahasiswa['KLASTER'].map(mapping)\n",
    "\n",
    "# Menampilkan hasil klasterisasi\n",
    "print(df_mahasiswa)\n",
    "\n",
    "# Simpan DataFrame ke dalam file CSV\n",
    "df_mahasiswa.to_csv('d:/Data_Mahasiswa_Klaster.csv', index=False)\n"
   ]
  },
  {
   "cell_type": "code",
   "execution_count": null,
   "id": "9940591e-9ee0-489e-9ef1-b9d08a9ec57c",
   "metadata": {},
   "outputs": [],
   "source": []
  }
 ],
 "metadata": {
  "kernelspec": {
   "display_name": "Python 3 (ipykernel)",
   "language": "python",
   "name": "python3"
  },
  "language_info": {
   "codemirror_mode": {
    "name": "ipython",
    "version": 3
   },
   "file_extension": ".py",
   "mimetype": "text/x-python",
   "name": "python",
   "nbconvert_exporter": "python",
   "pygments_lexer": "ipython3",
   "version": "3.12.2"
  }
 },
 "nbformat": 4,
 "nbformat_minor": 5
}
