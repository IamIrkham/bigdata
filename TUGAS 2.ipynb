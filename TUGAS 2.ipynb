{
 "cells": [
  {
   "cell_type": "code",
   "execution_count": 1,
   "id": "10e94ea0-d032-4d0f-a2e1-79233288bd0c",
   "metadata": {},
   "outputs": [
    {
     "name": "stdout",
     "output_type": "stream",
     "text": [
      "Masukkan nilai a:  70\n",
      "Masukkan nilai b:  90\n",
      "Masukkan nilai c:  80\n"
     ]
    },
    {
     "name": "stdout",
     "output_type": "stream",
     "text": [
      "Rata-rata dari 70, 90, dan 80 adalah 80.0\n"
     ]
    }
   ],
   "source": [
    "def hitung_rata_rata(a, b, c):\n",
    "    return (a + b + c) / 3\n",
    "\n",
    "# Input nilai a, b, dan c\n",
    "a = int(input(\"Masukkan nilai a: \"))\n",
    "b = int(input(\"Masukkan nilai b: \"))\n",
    "c = int(input(\"Masukkan nilai c: \"))\n",
    "\n",
    "# Hitung rata-rata\n",
    "rata_rata = hitung_rata_rata(a, b, c)\n",
    "\n",
    "print(f\"Rata-rata dari {a}, {b}, dan {c} adalah {rata_rata}\")"
   ]
  },
  {
   "cell_type": "code",
   "execution_count": 2,
   "id": "82620e89-0245-4419-942a-75aeccaf4550",
   "metadata": {},
   "outputs": [
    {
     "name": "stdout",
     "output_type": "stream",
     "text": [
      "Masukkan nilai x:  90\n"
     ]
    },
    {
     "name": "stdout",
     "output_type": "stream",
     "text": [
      "Nilai f(x) untuk x = 90 adalah 1458180.1666666667\n"
     ]
    }
   ],
   "source": [
    "def hitung_nilai_fungsi(x):\n",
    "    return 2 * x**3 + 2 * x + 15 / x\n",
    "\n",
    "# Input nilai x\n",
    "x = int(input(\"Masukkan nilai x: \"))\n",
    "\n",
    "# Hitung nilai fungsi f(x)\n",
    "nilai_fungsi = hitung_nilai_fungsi(x)\n",
    "\n",
    "print(f\"Nilai f(x) untuk x = {x} adalah {nilai_fungsi}\")"
   ]
  },
  {
   "cell_type": "code",
   "execution_count": 3,
   "id": "cc18f1bd-069f-460c-b5d5-57ce2d967e79",
   "metadata": {},
   "outputs": [
    {
     "name": "stdout",
     "output_type": "stream",
     "text": [
      "Masukkan bilangan bulat pertama:  40\n",
      "Masukkan bilangan bulat kedua:  70\n",
      "Masukkan bilangan bulat ketiga:  80\n"
     ]
    },
    {
     "name": "stdout",
     "output_type": "stream",
     "text": [
      "Rata-rata dari ketiga bilangan adalah: 63.333333333333336\n"
     ]
    },
    {
     "name": "stdout",
     "output_type": "stream",
     "text": [
      "Masukkan nilai x untuk menghitung f(x):  60\n"
     ]
    },
    {
     "name": "stdout",
     "output_type": "stream",
     "text": [
      "Nilai f(x) untuk x = 60 adalah: 432120.25\n"
     ]
    },
    {
     "name": "stdout",
     "output_type": "stream",
     "text": [
      "Masukkan gaji per jam Budi:  50000\n"
     ]
    },
    {
     "name": "stdout",
     "output_type": "stream",
     "text": [
      "total_penghasilan: Rp 10000000.00\n",
      "pajak: Rp 1400000.00\n",
      "pendapatan_bersih: Rp 8600000.00\n",
      "pengeluaran_baju_aksesoris: Rp 860000.00\n",
      "pengeluaran_alat_tulis: Rp 86000.00\n",
      "sisa_uang: Rp 7654000.00\n",
      "sedekah: Rp 1913500.00\n",
      "sedekah_anak_yatim: Rp 574050.00\n",
      "sedekah_dhuafa: Rp 1339450.00\n"
     ]
    }
   ],
   "source": [
    "# Menghitung pendapatan bersih Budi setelah potongan pajak dan pengeluaran\n",
    "def hitung_pendapatan_bersih(gaji_per_jam):\n",
    "    total_penghasilan = gaji_per_jam * 40 * 5  # 40 jam kerja per minggu selama 5 minggu\n",
    "    pajak = 0.14 * total_penghasilan\n",
    "    pendapatan_bersih = total_penghasilan - pajak\n",
    "    pengeluaran_baju_aksesoris = 0.1 * pendapatan_bersih\n",
    "    pengeluaran_alat_tulis = 0.01 * pendapatan_bersih\n",
    "    sisa_uang = pendapatan_bersih - pengeluaran_baju_aksesoris - pengeluaran_alat_tulis\n",
    "    sedekah = 0.25 * sisa_uang\n",
    "    sedekah_anak_yatim = 0.3 * sedekah\n",
    "    sedekah_dhuafa = 0.7 * sedekah\n",
    "    \n",
    "    return {\n",
    "        'total_penghasilan': total_penghasilan,\n",
    "        'pajak': pajak,\n",
    "        'pendapatan_bersih': pendapatan_bersih,\n",
    "        'pengeluaran_baju_aksesoris': pengeluaran_baju_aksesoris,\n",
    "        'pengeluaran_alat_tulis': pengeluaran_alat_tulis,\n",
    "        'sisa_uang': sisa_uang,\n",
    "        'sedekah': sedekah,\n",
    "        'sedekah_anak_yatim': sedekah_anak_yatim,\n",
    "        'sedekah_dhuafa': sedekah_dhuafa\n",
    "    }\n",
    "\n",
    "# Contoh penggunaan fungsi-fungsi di atas\n",
    "a = int(input(\"Masukkan bilangan bulat pertama: \"))\n",
    "b = int(input(\"Masukkan bilangan bulat kedua: \"))\n",
    "c = int(input(\"Masukkan bilangan bulat ketiga: \"))\n",
    "rata_rata = hitung_rata_rata(a, b, c)\n",
    "print(\"Rata-rata dari ketiga bilangan adalah:\", rata_rata)\n",
    "\n",
    "x = int(input(\"Masukkan nilai x untuk menghitung f(x): \"))\n",
    "nilai_fungsi = hitung_nilai_fungsi(x)\n",
    "print(\"Nilai f(x) untuk x =\", x, \"adalah:\", nilai_fungsi)\n",
    "\n",
    "gaji_per_jam = float(input(\"Masukkan gaji per jam Budi: \"))\n",
    "hasil_perhitungan = hitung_pendapatan_bersih(gaji_per_jam)\n",
    "for key, value in hasil_perhitungan.items():\n",
    "    print(f\"{key}: Rp {value:.2f}\")"
   ]
  },
  {
   "cell_type": "code",
   "execution_count": 4,
   "id": "afcbbcf8-7bd0-49a6-8664-a8bfcbd84102",
   "metadata": {},
   "outputs": [
    {
     "name": "stdout",
     "output_type": "stream",
     "text": [
      "Masukkan gaji per jam Budi:  40000\n",
      "Masukkan jumlah minggu kerja selama libur musim panas:  100000\n"
     ]
    },
    {
     "name": "stdout",
     "output_type": "stream",
     "text": [
      "1. Pendapatan Budi selama libur musim panas sebelum pajak: Rp 160000000000.00\n",
      "2. Pendapatan Budi selama libur musim panas setelah pajak: Rp 137600000000.00\n",
      "3. Jumlah uang yang akan Budi habiskan untuk membeli pakaian dan aksesoris: Rp 13760000000.00\n",
      "4. Jumlah uang yang akan Budi habiskan untuk membeli alat tulis: Rp 1376000000.00\n",
      "5. Jumlah uang yang akan Budi sedekahkan: Rp 30616000000.00\n",
      "6. Jumlah uang yang akan diterima anak yatim: Rp 9184800000.00\n",
      "7. Jumlah uang yang akan diterima kaum dhuafa: Rp 21431200000.00\n"
     ]
    }
   ],
   "source": [
    "# Menghitung pendapatan Budi selama libur musim panas sebelum dan setelah pajak\n",
    "def hitung_pendapatan(gaji_per_jam, minggu_kerja):\n",
    "    total_penghasilan = gaji_per_jam * 40 * minggu_kerja  # 40 jam kerja per minggu\n",
    "    pajak = 0.14 * total_penghasilan\n",
    "    pendapatan_setelah_pajak = total_penghasilan - pajak\n",
    "    return total_penghasilan, pendapatan_setelah_pajak\n",
    "\n",
    "# Menghitung pengeluaran Budi untuk membeli pakaian, aksesoris, dan alat tulis\n",
    "def hitung_pengeluaran(pendapatan_bersih):\n",
    "    pengeluaran_pakaian_aksesoris = 0.1 * pendapatan_bersih\n",
    "    pengeluaran_alat_tulis = 0.01 * pendapatan_bersih\n",
    "    return pengeluaran_pakaian_aksesoris, pengeluaran_alat_tulis\n",
    "\n",
    "# Menghitung jumlah uang yang akan Budi sedekahkan dan diterima oleh anak yatim dan kaum dhuafa\n",
    "def hitung_sedekah(pendapatan_bersih):\n",
    "    sedekah = 0.25 * (pendapatan_bersih - 0.11 * pendapatan_bersih)  # Mengurangi pengeluaran untuk belanja dan alat tulis\n",
    "    sedekah_anak_yatim = 0.3 * sedekah\n",
    "    sedekah_dhuafa = 0.7 * sedekah\n",
    "    return sedekah, sedekah_anak_yatim, sedekah_dhuafa\n",
    "\n",
    "# Input gaji per jam dan jumlah minggu kerja\n",
    "gaji_per_jam = float(input(\"Masukkan gaji per jam Budi: \"))\n",
    "minggu_kerja = int(input(\"Masukkan jumlah minggu kerja selama libur musim panas: \"))\n",
    "\n",
    "# Hitung pendapatan Budi sebelum dan setelah pajak\n",
    "total_penghasilan, pendapatan_setelah_pajak = hitung_pendapatan(gaji_per_jam, minggu_kerja)\n",
    "\n",
    "# Hitung pengeluaran Budi untuk membeli pakaian, aksesoris, dan alat tulis\n",
    "pengeluaran_pakaian_aksesoris, pengeluaran_alat_tulis = hitung_pengeluaran(pendapatan_setelah_pajak)\n",
    "\n",
    "# Hitung jumlah uang yang akan Budi sedekahkan dan diterima oleh anak yatim dan kaum dhuafa\n",
    "sedekah, sedekah_anak_yatim, sedekah_dhuafa = hitung_sedekah(pendapatan_setelah_pajak)\n",
    "\n",
    "# Tampilkan output sesuai permintaan\n",
    "print(f\"1. Pendapatan Budi selama libur musim panas sebelum pajak: Rp {total_penghasilan:.2f}\")\n",
    "print(f\"2. Pendapatan Budi selama libur musim panas setelah pajak: Rp {pendapatan_setelah_pajak:.2f}\")\n",
    "print(f\"3. Jumlah uang yang akan Budi habiskan untuk membeli pakaian dan aksesoris: Rp {pengeluaran_pakaian_aksesoris:.2f}\")\n",
    "print(f\"4. Jumlah uang yang akan Budi habiskan untuk membeli alat tulis: Rp {pengeluaran_alat_tulis:.2f}\")\n",
    "print(f\"5. Jumlah uang yang akan Budi sedekahkan: Rp {sedekah:.2f}\")\n",
    "print(f\"6. Jumlah uang yang akan diterima anak yatim: Rp {sedekah_anak_yatim:.2f}\")\n",
    "print(f\"7. Jumlah uang yang akan diterima kaum dhuafa: Rp {sedekah_dhuafa:.2f}\")"
   ]
  },
  {
   "cell_type": "code",
   "execution_count": null,
   "id": "e2041317-5901-4c73-b23d-fdad2ad1a91c",
   "metadata": {},
   "outputs": [],
   "source": []
  }
 ],
 "metadata": {
  "kernelspec": {
   "display_name": "Python 3 (ipykernel)",
   "language": "python",
   "name": "python3"
  },
  "language_info": {
   "codemirror_mode": {
    "name": "ipython",
    "version": 3
   },
   "file_extension": ".py",
   "mimetype": "text/x-python",
   "name": "python",
   "nbconvert_exporter": "python",
   "pygments_lexer": "ipython3",
   "version": "3.12.2"
  }
 },
 "nbformat": 4,
 "nbformat_minor": 5
}
