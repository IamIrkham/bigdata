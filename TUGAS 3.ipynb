{
 "cells": [
  {
   "cell_type": "code",
   "execution_count": 1,
   "id": "d2148fb6-ade4-42e7-a785-3bd0949cb863",
   "metadata": {},
   "outputs": [
    {
     "name": "stdout",
     "output_type": "stream",
     "text": [
      "Masukkan angka pertama: 9\n",
      "Masukkan angka kedua: 7\n",
      "Pilih operasi (+, -, *, /): /\n",
      "Hasil: 1.2857142857142858\n",
      "Masukkan umur Anda: 21\n",
      "Anda sudah cukup umur.\n",
      "Masukkan suhu dalam Celsius: 30\n",
      "Suhu dalam Fahrenheit: 86.0\n",
      "Muhammad Adib Musthofa | 22.240.0101\n"
     ]
    }
   ],
   "source": [
    "def kalkulator():\n",
    "    try:\n",
    "        angka1 = float(input(\"Masukkan angka pertama: \"))\n",
    "        angka2 = float(input(\"Masukkan angka kedua: \"))\n",
    "        operasi = input(\"Pilih operasi (+, -, *, /): \")\n",
    "\n",
    "        if operasi == '+':\n",
    "            hasil = angka1 + angka2\n",
    "        elif operasi == '-':\n",
    "            hasil = angka1 - angka2\n",
    "        elif operasi == '*':\n",
    "            hasil = angka1 * angka2\n",
    "        elif operasi == '/':\n",
    "            hasil = angka1 / angka2\n",
    "        else:\n",
    "            raise ValueError(\"Operasi yang dimasukkan tidak valid!\")\n",
    "\n",
    "        print(\"Hasil:\", hasil)\n",
    "\n",
    "    except ValueError as e:\n",
    "        print(\"Terjadi kesalahan:\", e)\n",
    "    except ZeroDivisionError:\n",
    "        print(\"Error: Pembagian dengan nol tidak diizinkan.\")\n",
    "\n",
    "if __name__ == \"__main__\":\n",
    "    kalkulator()\n",
    "def cek_umur():\n",
    "    try:\n",
    "        umur = int(input(\"Masukkan umur Anda: \"))\n",
    "        if umur < 0:\n",
    "            raise ValueError(\"Umur tidak boleh negatif!\")\n",
    "        elif umur < 18:\n",
    "            print(\"Anda belum cukup umur.\")\n",
    "        else:\n",
    "            print(\"Anda sudah cukup umur.\")\n",
    "\n",
    "    except ValueError as e:\n",
    "        print(\"Terjadi kesalahan:\", e)\n",
    "\n",
    "if __name__ == \"__main__\":\n",
    "    cek_umur()\n",
    "def konversi_suhu():\n",
    "    try:\n",
    "        suhu_celsius = float(input(\"Masukkan suhu dalam Celsius: \"))\n",
    "        suhu_fahrenheit = (suhu_celsius * 9/5) + 32\n",
    "        print(\"Suhu dalam Fahrenheit:\", suhu_fahrenheit)\n",
    "\n",
    "    except ValueError:\n",
    "        print(\"Error: Masukkan angka yang valid untuk suhu.\")\n",
    "\n",
    "if __name__ == \"__main__\":\n",
    "    konversi_suhu()\n",
    "print(\"Muhammad Adib Musthofa | 22.240.0101\")\n"
   ]
  },
  {
   "cell_type": "code",
   "execution_count": 3,
   "id": "29940f2b-01db-4b90-818d-b340522cbf80",
   "metadata": {},
   "outputs": [
    {
     "name": "stdout",
     "output_type": "stream",
     "text": [
      "Masukkan bilangan: -9\n",
      "Bilangan -9 adalah Negatif atau Nol.\n",
      "Muhammad Adib Musthofa | 22.240.0101\n"
     ]
    }
   ],
   "source": [
    "def cek_bilangan():\n",
    "    try:\n",
    "        bilangan = int(input(\"Masukkan bilangan: \"))\n",
    "        hasil = \"Positif\" if bilangan > 0 else \"Negatif atau Nol\"\n",
    "        print(f\"Bilangan {bilangan} adalah {hasil}.\")\n",
    "\n",
    "    except ValueError:\n",
    "        print(\"Error: Masukkan bilangan bulat.\")\n",
    "\n",
    "if __name__ == \"__main__\":\n",
    "    cek_bilangan()\n",
    "\n",
    "print(\"Muhammad Adib Musthofa | 22.240.0101\")"
   ]
  },
  {
   "cell_type": "code",
   "execution_count": 4,
   "id": "dcd69b36-9e07-4e13-9822-986a5ea1e288",
   "metadata": {},
   "outputs": [
    {
     "name": "stdout",
     "output_type": "stream",
     "text": [
      "Masukkan bulan (1-12): 7\n",
      "Jumlah hari: 31\n",
      "Muhammad Adib Musthofa | 22.240.0101\n"
     ]
    }
   ],
   "source": [
    "def hitung_jumlah_hari(bulan):\n",
    "    if bulan == 2:\n",
    "        return 29  # Tahun kabisat, Februari memiliki 29 hari\n",
    "    elif bulan in [4, 6, 9, 11]:\n",
    "        return 30  # Bulan April, Juni, September, November memiliki 30 hari\n",
    "    else:\n",
    "        return 31  # Bulan lainnya memiliki 31 hari\n",
    "\n",
    "def main():\n",
    "    try:\n",
    "        nomor_bulan = int(input(\"Masukkan bulan (1-12): \"))\n",
    "        if 1 <= nomor_bulan <= 12:\n",
    "            jumlah_hari = hitung_jumlah_hari(nomor_bulan)\n",
    "            print(f\"Jumlah hari: {jumlah_hari}\")\n",
    "        else:\n",
    "            raise ValueError(\"Bulan yang dimasukkan tidak valid!\")\n",
    "    except ValueError as e:\n",
    "        print(f\"Terjadi kesalahan: {e}\")\n",
    "\n",
    "if __name__ == \"__main__\":\n",
    "    main()\n",
    "    \n",
    "\n",
    "print(\"Muhammad Adib Musthofa | 22.240.0101\")"
   ]
  },
  {
   "cell_type": "code",
   "execution_count": 5,
   "id": "2280384c-7b6c-4e97-9ba7-9468826528b6",
   "metadata": {},
   "outputs": [
    {
     "name": "stdout",
     "output_type": "stream",
     "text": [
      "Masukkan sisi 1: 666\n",
      "Masukkan sisi 2: 999\n",
      "Masukkan sisi 3: 888\n",
      "Tidak ada yang sama\n",
      "Muhammad Adib Musthofa | 22.240.0101\n"
     ]
    }
   ],
   "source": [
    "def cek_sisi_segitiga(sisi1, sisi2, sisi3):\n",
    "    if sisi1 == sisi2 == sisi3:\n",
    "        return \"3 sisi sama\"\n",
    "    elif sisi1 == sisi2 or sisi1 == sisi3 or sisi2 == sisi3:\n",
    "        return \"2 sisi sama\"\n",
    "    else:\n",
    "        return \"Tidak ada yang sama\"\n",
    "\n",
    "def main():\n",
    "    try:\n",
    "        sisi1 = float(input(\"Masukkan sisi 1: \"))\n",
    "        sisi2 = float(input(\"Masukkan sisi 2: \"))\n",
    "        sisi3 = float(input(\"Masukkan sisi 3: \"))\n",
    "\n",
    "        pesan = cek_sisi_segitiga(sisi1, sisi2, sisi3)\n",
    "        print(pesan)\n",
    "\n",
    "    except ValueError:\n",
    "        print(\"Error: Masukkan angka yang valid untuk panjang sisi.\")\n",
    "\n",
    "if __name__ == \"__main__\":\n",
    "    main()\n",
    "\n",
    "print(\"Muhammad Adib Musthofa | 22.240.0101\")"
   ]
  },
  {
   "cell_type": "code",
   "execution_count": 6,
   "id": "7b67e9b5-ea0d-413a-8b6c-d9051f78e340",
   "metadata": {},
   "outputs": [
    {
     "name": "stdout",
     "output_type": "stream",
     "text": [
      "Masukkan sisi 1: 66\n",
      "Masukkan sisi 2: 66\n",
      "Masukkan sisi 3: 99\n",
      "2 sisi sama\n",
      "Muhammad Adib Musthofa | 22.240.0101\n"
     ]
    }
   ],
   "source": [
    "def cek_sisi_segitiga(sisi1, sisi2, sisi3):\n",
    "    if sisi1 == sisi2 == sisi3:\n",
    "        return \"3 sisi sama\"\n",
    "    elif sisi1 == sisi2 or sisi1 == sisi3 or sisi2 == sisi3:\n",
    "        return \"2 sisi sama\"\n",
    "    else:\n",
    "        return \"Tidak ada yang sama\"\n",
    "\n",
    "def main():\n",
    "    try:\n",
    "        sisi1 = float(input(\"Masukkan sisi 1: \"))\n",
    "        sisi2 = float(input(\"Masukkan sisi 2: \"))\n",
    "        sisi3 = float(input(\"Masukkan sisi 3: \"))\n",
    "\n",
    "        pesan = cek_sisi_segitiga(sisi1, sisi2, sisi3)\n",
    "        print(pesan)\n",
    "\n",
    "    except ValueError:\n",
    "        print(\"Error: Masukkan angka yang valid untuk panjang sisi.\")\n",
    "\n",
    "if __name__ == \"__main__\":\n",
    "    main()\n",
    "\n",
    "print(\"Muhammad Adib Musthofa | 22.240.0101\")"
   ]
  },
  {
   "cell_type": "code",
   "execution_count": 7,
   "id": "8b670d7b-976b-4879-bff7-96937b056dfe",
   "metadata": {},
   "outputs": [
    {
     "name": "stdout",
     "output_type": "stream",
     "text": [
      "Masukkan sisi 1: 9\n",
      "Masukkan sisi 2: 9\n",
      "Masukkan sisi 3: 9\n",
      "3 sisi sama\n",
      "Muhammad Adib Musthofa | 22.240.0101\n"
     ]
    }
   ],
   "source": [
    "def cek_sisi_segitiga(sisi1, sisi2, sisi3):\n",
    "    if sisi1 == sisi2 == sisi3:\n",
    "        return \"3 sisi sama\"\n",
    "    elif sisi1 == sisi2 or sisi1 == sisi3 or sisi2 == sisi3:\n",
    "        return \"2 sisi sama\"\n",
    "    else:\n",
    "        return \"Tidak ada yang sama\"\n",
    "\n",
    "def main():\n",
    "    try:\n",
    "        sisi1 = float(input(\"Masukkan sisi 1: \"))\n",
    "        sisi2 = float(input(\"Masukkan sisi 2: \"))\n",
    "        sisi3 = float(input(\"Masukkan sisi 3: \"))\n",
    "\n",
    "        pesan = cek_sisi_segitiga(sisi1, sisi2, sisi3)\n",
    "        print(pesan)\n",
    "\n",
    "    except ValueError:\n",
    "        print(\"Error: Masukkan angka yang valid untuk panjang sisi.\")\n",
    "\n",
    "if __name__ == \"__main__\":\n",
    "    main()\n",
    "\n",
    "print(\"Muhammad Adib Musthofa | 22.240.0101\")"
   ]
  },
  {
   "cell_type": "code",
   "execution_count": null,
   "id": "443dc815-52e9-483b-8700-f116bef423a1",
   "metadata": {},
   "outputs": [],
   "source": []
  }
 ],
 "metadata": {
  "kernelspec": {
   "display_name": "Python 3 (ipykernel)",
   "language": "python",
   "name": "python3"
  },
  "language_info": {
   "codemirror_mode": {
    "name": "ipython",
    "version": 3
   },
   "file_extension": ".py",
   "mimetype": "text/x-python",
   "name": "python",
   "nbconvert_exporter": "python",
   "pygments_lexer": "ipython3",
   "version": "3.9.7"
  }
 },
 "nbformat": 4,
 "nbformat_minor": 5
}
